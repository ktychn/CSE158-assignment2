{
 "cells": [
  {
   "cell_type": "code",
   "execution_count": 1,
   "metadata": {},
   "outputs": [],
   "source": [
    "import gzip\n",
    "from collections import defaultdict\n",
    "import math\n",
    "import scipy.optimize\n",
    "import numpy as np\n",
    "import string\n",
    "import random\n",
    "from sklearn import linear_model\n",
    "from sklearn.metrics import mean_squared_error\n",
    "from surprise import SVD, Reader, Dataset, accuracy\n",
    "from surprise.model_selection import train_test_split, GridSearchCV\n",
    "import pandas as pd\n",
    "import matplotlib.pyplot as plt"
   ]
  },
  {
   "cell_type": "code",
   "execution_count": 2,
   "metadata": {},
   "outputs": [],
   "source": [
    "import warnings\n",
    "warnings.filterwarnings(\"ignore\")"
   ]
  },
  {
   "cell_type": "code",
   "execution_count": 3,
   "metadata": {},
   "outputs": [
    {
     "data": {
      "text/html": [
       "<div>\n",
       "<style scoped>\n",
       "    .dataframe tbody tr th:only-of-type {\n",
       "        vertical-align: middle;\n",
       "    }\n",
       "\n",
       "    .dataframe tbody tr th {\n",
       "        vertical-align: top;\n",
       "    }\n",
       "\n",
       "    .dataframe thead th {\n",
       "        text-align: right;\n",
       "    }\n",
       "</style>\n",
       "<table border=\"1\" class=\"dataframe\">\n",
       "  <thead>\n",
       "    <tr style=\"text-align: right;\">\n",
       "      <th></th>\n",
       "      <th>username</th>\n",
       "      <th>anime_id</th>\n",
       "      <th>my_watched_episodes</th>\n",
       "      <th>my_start_date</th>\n",
       "      <th>my_finish_date</th>\n",
       "      <th>my_score</th>\n",
       "      <th>my_status</th>\n",
       "      <th>my_rewatching</th>\n",
       "      <th>my_rewatching_ep</th>\n",
       "      <th>my_last_updated</th>\n",
       "      <th>my_tags</th>\n",
       "    </tr>\n",
       "  </thead>\n",
       "  <tbody>\n",
       "    <tr>\n",
       "      <th>0</th>\n",
       "      <td>tamama_kuroyuki</td>\n",
       "      <td>14817</td>\n",
       "      <td>1</td>\n",
       "      <td>0000-00-00</td>\n",
       "      <td>0000-00-00</td>\n",
       "      <td>7</td>\n",
       "      <td>2</td>\n",
       "      <td>NaN</td>\n",
       "      <td>0</td>\n",
       "      <td>2015-09-08 05:17:10</td>\n",
       "      <td>NaN</td>\n",
       "    </tr>\n",
       "    <tr>\n",
       "      <th>1</th>\n",
       "      <td>quazzaar</td>\n",
       "      <td>2449</td>\n",
       "      <td>1</td>\n",
       "      <td>0000-00-00</td>\n",
       "      <td>0000-00-00</td>\n",
       "      <td>8</td>\n",
       "      <td>2</td>\n",
       "      <td>0.0</td>\n",
       "      <td>0</td>\n",
       "      <td>2017-01-26 20:02:53</td>\n",
       "      <td>NaN</td>\n",
       "    </tr>\n",
       "    <tr>\n",
       "      <th>2</th>\n",
       "      <td>abhay_shinigami</td>\n",
       "      <td>25013</td>\n",
       "      <td>24</td>\n",
       "      <td>0000-00-00</td>\n",
       "      <td>0000-00-00</td>\n",
       "      <td>9</td>\n",
       "      <td>2</td>\n",
       "      <td>0.0</td>\n",
       "      <td>0</td>\n",
       "      <td>2016-07-03 05:20:28</td>\n",
       "      <td>NaN</td>\n",
       "    </tr>\n",
       "    <tr>\n",
       "      <th>3</th>\n",
       "      <td>xever</td>\n",
       "      <td>1566</td>\n",
       "      <td>1</td>\n",
       "      <td>0000-00-00</td>\n",
       "      <td>0000-00-00</td>\n",
       "      <td>7</td>\n",
       "      <td>2</td>\n",
       "      <td>0.0</td>\n",
       "      <td>0</td>\n",
       "      <td>2009-12-29 16:52:36</td>\n",
       "      <td>NaN</td>\n",
       "    </tr>\n",
       "    <tr>\n",
       "      <th>4</th>\n",
       "      <td>Equintus</td>\n",
       "      <td>5030</td>\n",
       "      <td>12</td>\n",
       "      <td>0000-00-00</td>\n",
       "      <td>0000-00-00</td>\n",
       "      <td>0</td>\n",
       "      <td>2</td>\n",
       "      <td>0.0</td>\n",
       "      <td>0</td>\n",
       "      <td>2014-09-20 13:30:37</td>\n",
       "      <td>NaN</td>\n",
       "    </tr>\n",
       "  </tbody>\n",
       "</table>\n",
       "</div>"
      ],
      "text/plain": [
       "          username  anime_id  my_watched_episodes my_start_date  \\\n",
       "0  tamama_kuroyuki     14817                    1    0000-00-00   \n",
       "1         quazzaar      2449                    1    0000-00-00   \n",
       "2  abhay_shinigami     25013                   24    0000-00-00   \n",
       "3            xever      1566                    1    0000-00-00   \n",
       "4         Equintus      5030                   12    0000-00-00   \n",
       "\n",
       "  my_finish_date  my_score  my_status  my_rewatching  my_rewatching_ep  \\\n",
       "0     0000-00-00         7          2            NaN                 0   \n",
       "1     0000-00-00         8          2            0.0                 0   \n",
       "2     0000-00-00         9          2            0.0                 0   \n",
       "3     0000-00-00         7          2            0.0                 0   \n",
       "4     0000-00-00         0          2            0.0                 0   \n",
       "\n",
       "       my_last_updated my_tags  \n",
       "0  2015-09-08 05:17:10     NaN  \n",
       "1  2017-01-26 20:02:53     NaN  \n",
       "2  2016-07-03 05:20:28     NaN  \n",
       "3  2009-12-29 16:52:36     NaN  \n",
       "4  2014-09-20 13:30:37     NaN  "
      ]
     },
     "execution_count": 3,
     "metadata": {},
     "output_type": "execute_result"
    }
   ],
   "source": [
    "# extract info\n",
    "# assignment 1 format: ('u93397390', 'b52690052', 3) user id, book id, rating\n",
    "ratings_df = pd.read_csv('./dataset/ratings_training.csv').drop(columns=['Unnamed: 0'])\n",
    "ratings_df.head()"
   ]
  },
  {
   "cell_type": "code",
   "execution_count": 4,
   "metadata": {},
   "outputs": [
    {
     "data": {
      "text/html": [
       "<div>\n",
       "<style scoped>\n",
       "    .dataframe tbody tr th:only-of-type {\n",
       "        vertical-align: middle;\n",
       "    }\n",
       "\n",
       "    .dataframe tbody tr th {\n",
       "        vertical-align: top;\n",
       "    }\n",
       "\n",
       "    .dataframe thead th {\n",
       "        text-align: right;\n",
       "    }\n",
       "</style>\n",
       "<table border=\"1\" class=\"dataframe\">\n",
       "  <thead>\n",
       "    <tr style=\"text-align: right;\">\n",
       "      <th></th>\n",
       "      <th>user</th>\n",
       "      <th>item</th>\n",
       "      <th>rating</th>\n",
       "    </tr>\n",
       "  </thead>\n",
       "  <tbody>\n",
       "    <tr>\n",
       "      <th>0</th>\n",
       "      <td>tamama_kuroyuki</td>\n",
       "      <td>14817</td>\n",
       "      <td>7</td>\n",
       "    </tr>\n",
       "    <tr>\n",
       "      <th>1</th>\n",
       "      <td>quazzaar</td>\n",
       "      <td>2449</td>\n",
       "      <td>8</td>\n",
       "    </tr>\n",
       "    <tr>\n",
       "      <th>2</th>\n",
       "      <td>abhay_shinigami</td>\n",
       "      <td>25013</td>\n",
       "      <td>9</td>\n",
       "    </tr>\n",
       "    <tr>\n",
       "      <th>3</th>\n",
       "      <td>xever</td>\n",
       "      <td>1566</td>\n",
       "      <td>7</td>\n",
       "    </tr>\n",
       "    <tr>\n",
       "      <th>4</th>\n",
       "      <td>Equintus</td>\n",
       "      <td>5030</td>\n",
       "      <td>0</td>\n",
       "    </tr>\n",
       "    <tr>\n",
       "      <th>...</th>\n",
       "      <td>...</td>\n",
       "      <td>...</td>\n",
       "      <td>...</td>\n",
       "    </tr>\n",
       "    <tr>\n",
       "      <th>199995</th>\n",
       "      <td>Nara-Sama</td>\n",
       "      <td>4437</td>\n",
       "      <td>9</td>\n",
       "    </tr>\n",
       "    <tr>\n",
       "      <th>199996</th>\n",
       "      <td>rxkxt</td>\n",
       "      <td>164</td>\n",
       "      <td>10</td>\n",
       "    </tr>\n",
       "    <tr>\n",
       "      <th>199997</th>\n",
       "      <td>Synizta</td>\n",
       "      <td>10162</td>\n",
       "      <td>8</td>\n",
       "    </tr>\n",
       "    <tr>\n",
       "      <th>199998</th>\n",
       "      <td>SlyVengeance</td>\n",
       "      <td>31798</td>\n",
       "      <td>9</td>\n",
       "    </tr>\n",
       "    <tr>\n",
       "      <th>199999</th>\n",
       "      <td>maralow</td>\n",
       "      <td>10800</td>\n",
       "      <td>9</td>\n",
       "    </tr>\n",
       "  </tbody>\n",
       "</table>\n",
       "<p>200000 rows × 3 columns</p>\n",
       "</div>"
      ],
      "text/plain": [
       "                   user   item  rating\n",
       "0       tamama_kuroyuki  14817       7\n",
       "1              quazzaar   2449       8\n",
       "2       abhay_shinigami  25013       9\n",
       "3                 xever   1566       7\n",
       "4              Equintus   5030       0\n",
       "...                 ...    ...     ...\n",
       "199995        Nara-Sama   4437       9\n",
       "199996            rxkxt    164      10\n",
       "199997          Synizta  10162       8\n",
       "199998     SlyVengeance  31798       9\n",
       "199999          maralow  10800       9\n",
       "\n",
       "[200000 rows x 3 columns]"
      ]
     },
     "execution_count": 4,
     "metadata": {},
     "output_type": "execute_result"
    }
   ],
   "source": [
    "dataset = ratings_df.get(['username', 'anime_id', 'my_score'])\n",
    "dataset = dataset.rename(columns={'username': 'user', 'anime_id': 'item', 'my_score': 'rating'})\n",
    "dataset"
   ]
  },
  {
   "cell_type": "code",
   "execution_count": 5,
   "metadata": {},
   "outputs": [
    {
     "data": {
      "text/html": [
       "<div>\n",
       "<style scoped>\n",
       "    .dataframe tbody tr th:only-of-type {\n",
       "        vertical-align: middle;\n",
       "    }\n",
       "\n",
       "    .dataframe tbody tr th {\n",
       "        vertical-align: top;\n",
       "    }\n",
       "\n",
       "    .dataframe thead th {\n",
       "        text-align: right;\n",
       "    }\n",
       "</style>\n",
       "<table border=\"1\" class=\"dataframe\">\n",
       "  <thead>\n",
       "    <tr style=\"text-align: right;\">\n",
       "      <th></th>\n",
       "      <th>username</th>\n",
       "      <th>anime_id</th>\n",
       "      <th>my_watched_episodes</th>\n",
       "      <th>my_start_date</th>\n",
       "      <th>my_finish_date</th>\n",
       "      <th>my_score</th>\n",
       "      <th>my_status</th>\n",
       "      <th>my_rewatching</th>\n",
       "      <th>my_rewatching_ep</th>\n",
       "      <th>my_last_updated</th>\n",
       "      <th>my_tags</th>\n",
       "    </tr>\n",
       "  </thead>\n",
       "  <tbody>\n",
       "    <tr>\n",
       "      <th>0</th>\n",
       "      <td>dan_sagara</td>\n",
       "      <td>24</td>\n",
       "      <td>26</td>\n",
       "      <td>0000-00-00</td>\n",
       "      <td>0000-00-00</td>\n",
       "      <td>8</td>\n",
       "      <td>2</td>\n",
       "      <td>0.0</td>\n",
       "      <td>0</td>\n",
       "      <td>2009-03-28 04:12:56</td>\n",
       "      <td>NaN</td>\n",
       "    </tr>\n",
       "    <tr>\n",
       "      <th>1</th>\n",
       "      <td>expecional</td>\n",
       "      <td>7593</td>\n",
       "      <td>12</td>\n",
       "      <td>0000-00-00</td>\n",
       "      <td>2010-07-11</td>\n",
       "      <td>9</td>\n",
       "      <td>2</td>\n",
       "      <td>0.0</td>\n",
       "      <td>0</td>\n",
       "      <td>2010-07-11 17:51:12</td>\n",
       "      <td>em comparação aos OVA, o anime é desenho de cr...</td>\n",
       "    </tr>\n",
       "    <tr>\n",
       "      <th>2</th>\n",
       "      <td>One_PIece</td>\n",
       "      <td>12113</td>\n",
       "      <td>1</td>\n",
       "      <td>2013-07-07</td>\n",
       "      <td>2013-07-07</td>\n",
       "      <td>8</td>\n",
       "      <td>2</td>\n",
       "      <td>NaN</td>\n",
       "      <td>0</td>\n",
       "      <td>2013-07-20 04:01:32</td>\n",
       "      <td>NaN</td>\n",
       "    </tr>\n",
       "    <tr>\n",
       "      <th>3</th>\n",
       "      <td>Aseru</td>\n",
       "      <td>30831</td>\n",
       "      <td>10</td>\n",
       "      <td>0000-00-00</td>\n",
       "      <td>0000-00-00</td>\n",
       "      <td>10</td>\n",
       "      <td>2</td>\n",
       "      <td>0.0</td>\n",
       "      <td>0</td>\n",
       "      <td>2018-02-18 19:52:45</td>\n",
       "      <td>NaN</td>\n",
       "    </tr>\n",
       "    <tr>\n",
       "      <th>4</th>\n",
       "      <td>Pauli25</td>\n",
       "      <td>27417</td>\n",
       "      <td>1</td>\n",
       "      <td>0000-00-00</td>\n",
       "      <td>0000-00-00</td>\n",
       "      <td>5</td>\n",
       "      <td>2</td>\n",
       "      <td>0.0</td>\n",
       "      <td>0</td>\n",
       "      <td>2015-04-07 14:54:27</td>\n",
       "      <td>NaN</td>\n",
       "    </tr>\n",
       "    <tr>\n",
       "      <th>...</th>\n",
       "      <td>...</td>\n",
       "      <td>...</td>\n",
       "      <td>...</td>\n",
       "      <td>...</td>\n",
       "      <td>...</td>\n",
       "      <td>...</td>\n",
       "      <td>...</td>\n",
       "      <td>...</td>\n",
       "      <td>...</td>\n",
       "      <td>...</td>\n",
       "      <td>...</td>\n",
       "    </tr>\n",
       "    <tr>\n",
       "      <th>99995</th>\n",
       "      <td>vergil1111</td>\n",
       "      <td>855</td>\n",
       "      <td>26</td>\n",
       "      <td>0000-00-00</td>\n",
       "      <td>0000-00-00</td>\n",
       "      <td>0</td>\n",
       "      <td>2</td>\n",
       "      <td>NaN</td>\n",
       "      <td>0</td>\n",
       "      <td>2009-11-05 16:19:54</td>\n",
       "      <td>NaN</td>\n",
       "    </tr>\n",
       "    <tr>\n",
       "      <th>99996</th>\n",
       "      <td>akumaxkr</td>\n",
       "      <td>846</td>\n",
       "      <td>26</td>\n",
       "      <td>0000-00-00</td>\n",
       "      <td>0000-00-00</td>\n",
       "      <td>8</td>\n",
       "      <td>2</td>\n",
       "      <td>0.0</td>\n",
       "      <td>0</td>\n",
       "      <td>2009-08-18 17:58:28</td>\n",
       "      <td>NaN</td>\n",
       "    </tr>\n",
       "    <tr>\n",
       "      <th>99997</th>\n",
       "      <td>Rikki</td>\n",
       "      <td>21507</td>\n",
       "      <td>12</td>\n",
       "      <td>0000-00-00</td>\n",
       "      <td>0000-00-00</td>\n",
       "      <td>3</td>\n",
       "      <td>2</td>\n",
       "      <td>0.0</td>\n",
       "      <td>0</td>\n",
       "      <td>2014-10-30 22:37:40</td>\n",
       "      <td>NaN</td>\n",
       "    </tr>\n",
       "    <tr>\n",
       "      <th>99998</th>\n",
       "      <td>SerShiro</td>\n",
       "      <td>1699</td>\n",
       "      <td>24</td>\n",
       "      <td>0000-00-00</td>\n",
       "      <td>0000-00-00</td>\n",
       "      <td>9</td>\n",
       "      <td>2</td>\n",
       "      <td>0.0</td>\n",
       "      <td>0</td>\n",
       "      <td>2011-12-31 17:03:21</td>\n",
       "      <td>NaN</td>\n",
       "    </tr>\n",
       "    <tr>\n",
       "      <th>99999</th>\n",
       "      <td>jwpmol</td>\n",
       "      <td>5205</td>\n",
       "      <td>1</td>\n",
       "      <td>0000-00-00</td>\n",
       "      <td>0000-00-00</td>\n",
       "      <td>9</td>\n",
       "      <td>2</td>\n",
       "      <td>0.0</td>\n",
       "      <td>0</td>\n",
       "      <td>2009-12-20 01:43:47</td>\n",
       "      <td>NaN</td>\n",
       "    </tr>\n",
       "  </tbody>\n",
       "</table>\n",
       "<p>100000 rows × 11 columns</p>\n",
       "</div>"
      ],
      "text/plain": [
       "         username  anime_id  my_watched_episodes my_start_date my_finish_date  \\\n",
       "0      dan_sagara        24                   26    0000-00-00     0000-00-00   \n",
       "1      expecional      7593                   12    0000-00-00     2010-07-11   \n",
       "2       One_PIece     12113                    1    2013-07-07     2013-07-07   \n",
       "3           Aseru     30831                   10    0000-00-00     0000-00-00   \n",
       "4         Pauli25     27417                    1    0000-00-00     0000-00-00   \n",
       "...           ...       ...                  ...           ...            ...   \n",
       "99995  vergil1111       855                   26    0000-00-00     0000-00-00   \n",
       "99996    akumaxkr       846                   26    0000-00-00     0000-00-00   \n",
       "99997       Rikki     21507                   12    0000-00-00     0000-00-00   \n",
       "99998    SerShiro      1699                   24    0000-00-00     0000-00-00   \n",
       "99999      jwpmol      5205                    1    0000-00-00     0000-00-00   \n",
       "\n",
       "       my_score  my_status  my_rewatching  my_rewatching_ep  \\\n",
       "0             8          2            0.0                 0   \n",
       "1             9          2            0.0                 0   \n",
       "2             8          2            NaN                 0   \n",
       "3            10          2            0.0                 0   \n",
       "4             5          2            0.0                 0   \n",
       "...         ...        ...            ...               ...   \n",
       "99995         0          2            NaN                 0   \n",
       "99996         8          2            0.0                 0   \n",
       "99997         3          2            0.0                 0   \n",
       "99998         9          2            0.0                 0   \n",
       "99999         9          2            0.0                 0   \n",
       "\n",
       "           my_last_updated                                            my_tags  \n",
       "0      2009-03-28 04:12:56                                                NaN  \n",
       "1      2010-07-11 17:51:12  em comparação aos OVA, o anime é desenho de cr...  \n",
       "2      2013-07-20 04:01:32                                                NaN  \n",
       "3      2018-02-18 19:52:45                                                NaN  \n",
       "4      2015-04-07 14:54:27                                                NaN  \n",
       "...                    ...                                                ...  \n",
       "99995  2009-11-05 16:19:54                                                NaN  \n",
       "99996  2009-08-18 17:58:28                                                NaN  \n",
       "99997  2014-10-30 22:37:40                                                NaN  \n",
       "99998  2011-12-31 17:03:21                                                NaN  \n",
       "99999  2009-12-20 01:43:47                                                NaN  \n",
       "\n",
       "[100000 rows x 11 columns]"
      ]
     },
     "execution_count": 5,
     "metadata": {},
     "output_type": "execute_result"
    }
   ],
   "source": [
    "testing = pd.read_csv('./dataset/ratings_testing.csv').drop(columns=['Unnamed: 0'])\n",
    "testing"
   ]
  },
  {
   "cell_type": "code",
   "execution_count": 186,
   "metadata": {},
   "outputs": [],
   "source": [
    "users = ratings_df.get('username')\n",
    "animes = ratings_df.get('anime_id')\n",
    "scores = ratings_df.get('my_score')\n",
    "testing_users = testing.get('username')\n",
    "testing_animes = testing.get('anime_id')\n",
    "testing_scores = testing.get('my_score')"
   ]
  },
  {
   "cell_type": "code",
   "execution_count": 187,
   "metadata": {},
   "outputs": [
    {
     "data": {
      "text/plain": [
       "100000"
      ]
     },
     "execution_count": 187,
     "metadata": {},
     "output_type": "execute_result"
    }
   ],
   "source": [
    "testingSet = []\n",
    "testingTrueScores = []\n",
    "for i in range(testing.shape[0]):\n",
    "    u = testing_users.iloc[i]\n",
    "    a = testing_animes.iloc[i]\n",
    "    r = testing_scores.iloc[i]\n",
    "    entry = (u, a, r)\n",
    "    testingSet.append(entry)\n",
    "    testingTrueScores.append(r)\n",
    "\n",
    "len(testingSet)"
   ]
  },
  {
   "cell_type": "code",
   "execution_count": 178,
   "metadata": {},
   "outputs": [
    {
     "data": {
      "text/plain": [
       "200000"
      ]
     },
     "execution_count": 178,
     "metadata": {},
     "output_type": "execute_result"
    }
   ],
   "source": [
    "allRatings = []\n",
    "trueScores = []\n",
    "for i in range(ratings_df.shape[0]):\n",
    "    u = users.iloc[i]\n",
    "    a = animes.iloc[i]\n",
    "    r = scores.iloc[i]\n",
    "    entry = (u, a, r)\n",
    "    allRatings.append(entry)\n",
    "    trueScores.append(r)\n",
    "len(allRatings)"
   ]
  },
  {
   "cell_type": "code",
   "execution_count": 179,
   "metadata": {},
   "outputs": [],
   "source": [
    "ratingsPerUser = defaultdict(list)\n",
    "ratingsPerItem = defaultdict(list)\n",
    "for u,a,r in allRatings:\n",
    "    if np.isnan(r):\n",
    "        continue\n",
    "    ratingsPerUser[u].append(r)\n",
    "    ratingsPerItem[a].append(r)"
   ]
  },
  {
   "cell_type": "code",
   "execution_count": 179,
   "metadata": {},
   "outputs": [
    {
     "data": {
      "text/plain": [
       "('tamama_kuroyuki', 14817, 7)"
      ]
     },
     "execution_count": 179,
     "metadata": {},
     "output_type": "execute_result"
    }
   ],
   "source": [
    "allRatings[0]"
   ]
  },
  {
   "cell_type": "code",
   "execution_count": 180,
   "metadata": {},
   "outputs": [
    {
     "data": {
      "text/plain": [
       "[7, 7, 7, 8, 8, 6, 7, 7, 4, 7, 10, 7, 7, 8, 8, 6, 8, 8]"
      ]
     },
     "execution_count": 180,
     "metadata": {},
     "output_type": "execute_result"
    }
   ],
   "source": [
    "ratingsPerUser['tamama_kuroyuki']"
   ]
  },
  {
   "cell_type": "code",
   "execution_count": 175,
   "metadata": {},
   "outputs": [
    {
     "data": {
      "text/plain": [
       "21.70265"
      ]
     },
     "execution_count": 175,
     "metadata": {},
     "output_type": "execute_result"
    }
   ],
   "source": [
    "# baselines\n",
    "# predict random score (0-10)\n",
    "random_pred = np.random.randint(0, 11, len(testingTrueScores)) \n",
    "mean_squared_error(testingTrueScores, random_pred)"
   ]
  },
  {
   "cell_type": "code",
   "execution_count": 192,
   "metadata": {},
   "outputs": [
    {
     "data": {
      "text/plain": [
       "6.713695"
      ]
     },
     "execution_count": 192,
     "metadata": {},
     "output_type": "execute_result"
    }
   ],
   "source": [
    "# average score for all users (in training set)\n",
    "global_avg = np.mean(trueScores)\n",
    "global_avg"
   ]
  },
  {
   "cell_type": "code",
   "execution_count": 196,
   "metadata": {},
   "outputs": [],
   "source": [
    "# average score among all anime\n",
    "anime_avg = 6.848998200359928"
   ]
  },
  {
   "cell_type": "code",
   "execution_count": 193,
   "metadata": {},
   "outputs": [
    {
     "data": {
      "text/plain": [
       "6.313792202574026"
      ]
     },
     "execution_count": 193,
     "metadata": {},
     "output_type": "execute_result"
    }
   ],
   "source": [
    "# predict that user's average score, or global score among all ratings in training set if no data\n",
    "avg_preds = []\n",
    "for i in range(len(testingSet)):\n",
    "    user = testingSet[i][0]\n",
    "    pred = np.mean(ratingsPerUser[user])\n",
    "    if np.isnan(pred):\n",
    "        avg_preds.append(global_avg)\n",
    "        continue\n",
    "    avg_preds.append(pred)\n",
    "mean_squared_error(testingTrueScores, avg_preds)"
   ]
  },
  {
   "cell_type": "code",
   "execution_count": 197,
   "metadata": {},
   "outputs": [
    {
     "data": {
      "text/plain": [
       "8.322801402456909"
      ]
     },
     "execution_count": 197,
     "metadata": {},
     "output_type": "execute_result"
    }
   ],
   "source": [
    "# predict that anime's average score, or global average score among all anime if no data\n",
    "avg_anime_preds = []\n",
    "for i in range(len(testingSet)):\n",
    "    item = testingSet[i][1]\n",
    "    pred = np.mean(ratingsPerItem[item])\n",
    "    if np.isnan(pred):\n",
    "        avg_anime_preds.append(anime_avg)\n",
    "        continue\n",
    "    avg_anime_preds.append(pred)\n",
    "mean_squared_error(testingTrueScores, avg_anime_preds)"
   ]
  },
  {
   "cell_type": "code",
   "execution_count": 6,
   "metadata": {},
   "outputs": [],
   "source": [
    "# read in file and set up dataset\n",
    "reader = Reader(rating_scale=(0, 10))\n",
    "train_data = Dataset.load_from_df(dataset, reader=reader)\n",
    "trainset = train_data.build_full_trainset()"
   ]
  },
  {
   "cell_type": "code",
   "execution_count": 7,
   "metadata": {},
   "outputs": [
    {
     "data": {
      "text/html": [
       "<div>\n",
       "<style scoped>\n",
       "    .dataframe tbody tr th:only-of-type {\n",
       "        vertical-align: middle;\n",
       "    }\n",
       "\n",
       "    .dataframe tbody tr th {\n",
       "        vertical-align: top;\n",
       "    }\n",
       "\n",
       "    .dataframe thead th {\n",
       "        text-align: right;\n",
       "    }\n",
       "</style>\n",
       "<table border=\"1\" class=\"dataframe\">\n",
       "  <thead>\n",
       "    <tr style=\"text-align: right;\">\n",
       "      <th></th>\n",
       "      <th>user</th>\n",
       "      <th>item</th>\n",
       "      <th>rating</th>\n",
       "    </tr>\n",
       "  </thead>\n",
       "  <tbody>\n",
       "    <tr>\n",
       "      <th>0</th>\n",
       "      <td>dan_sagara</td>\n",
       "      <td>24</td>\n",
       "      <td>8</td>\n",
       "    </tr>\n",
       "    <tr>\n",
       "      <th>1</th>\n",
       "      <td>expecional</td>\n",
       "      <td>7593</td>\n",
       "      <td>9</td>\n",
       "    </tr>\n",
       "    <tr>\n",
       "      <th>2</th>\n",
       "      <td>One_PIece</td>\n",
       "      <td>12113</td>\n",
       "      <td>8</td>\n",
       "    </tr>\n",
       "    <tr>\n",
       "      <th>3</th>\n",
       "      <td>Aseru</td>\n",
       "      <td>30831</td>\n",
       "      <td>10</td>\n",
       "    </tr>\n",
       "    <tr>\n",
       "      <th>4</th>\n",
       "      <td>Pauli25</td>\n",
       "      <td>27417</td>\n",
       "      <td>5</td>\n",
       "    </tr>\n",
       "    <tr>\n",
       "      <th>...</th>\n",
       "      <td>...</td>\n",
       "      <td>...</td>\n",
       "      <td>...</td>\n",
       "    </tr>\n",
       "    <tr>\n",
       "      <th>99995</th>\n",
       "      <td>vergil1111</td>\n",
       "      <td>855</td>\n",
       "      <td>0</td>\n",
       "    </tr>\n",
       "    <tr>\n",
       "      <th>99996</th>\n",
       "      <td>akumaxkr</td>\n",
       "      <td>846</td>\n",
       "      <td>8</td>\n",
       "    </tr>\n",
       "    <tr>\n",
       "      <th>99997</th>\n",
       "      <td>Rikki</td>\n",
       "      <td>21507</td>\n",
       "      <td>3</td>\n",
       "    </tr>\n",
       "    <tr>\n",
       "      <th>99998</th>\n",
       "      <td>SerShiro</td>\n",
       "      <td>1699</td>\n",
       "      <td>9</td>\n",
       "    </tr>\n",
       "    <tr>\n",
       "      <th>99999</th>\n",
       "      <td>jwpmol</td>\n",
       "      <td>5205</td>\n",
       "      <td>9</td>\n",
       "    </tr>\n",
       "  </tbody>\n",
       "</table>\n",
       "<p>100000 rows × 3 columns</p>\n",
       "</div>"
      ],
      "text/plain": [
       "             user   item  rating\n",
       "0      dan_sagara     24       8\n",
       "1      expecional   7593       9\n",
       "2       One_PIece  12113       8\n",
       "3           Aseru  30831      10\n",
       "4         Pauli25  27417       5\n",
       "...           ...    ...     ...\n",
       "99995  vergil1111    855       0\n",
       "99996    akumaxkr    846       8\n",
       "99997       Rikki  21507       3\n",
       "99998    SerShiro   1699       9\n",
       "99999      jwpmol   5205       9\n",
       "\n",
       "[100000 rows x 3 columns]"
      ]
     },
     "execution_count": 7,
     "metadata": {},
     "output_type": "execute_result"
    }
   ],
   "source": [
    "# read in test data as dataframe\n",
    "test_ratings = pd.read_csv('./dataset/ratings_testing.csv').drop(columns=['Unnamed: 0'])\n",
    "test_df = test_ratings.get(['username', 'anime_id', 'my_score'])\n",
    "test_df = test_df.rename(columns={'username': 'user', 'anime_id': 'item', 'my_score': 'rating'})\n",
    "# test_df = test_df.take(np.arange(40000))\n",
    "test_df"
   ]
  },
  {
   "cell_type": "code",
   "execution_count": 8,
   "metadata": {},
   "outputs": [],
   "source": [
    "# load the test data\n",
    "test_data = Dataset.load_from_df(test_df, reader=reader)\n",
    "testset = test_data.build_full_trainset().build_testset()  # build as a test set"
   ]
  },
  {
   "cell_type": "code",
   "execution_count": 126,
   "metadata": {},
   "outputs": [
    {
     "name": "stdout",
     "output_type": "stream",
     "text": [
      "6.386235800955032\n",
      "{'n_factors': 1, 'reg_all': 0.07}\n"
     ]
    }
   ],
   "source": [
    "# optimizing parameters (lambda, learning rate?, decrease n_factors?)\n",
    "# lambda (reg_all) -- default = 0.02\n",
    "# learning rate (lr_all) -- default = 0.005\n",
    "# n_factors -- default = 100\n",
    "# n_epochs -- default = 20\n",
    "# best MSE on HW 3 -- 1.4562096523896382\n",
    "param_grid = {'n_factors': [1], 'reg_all': np.linspace(0.05, 0.19, num=8)}#, \"lr_all\": np.linspace(0.008, 0.015, num=15)}#, \"lr_all\": np.linspace(0.007, 0.008, num=10)  }#, \"n_epochs\":[20, 25, 30, 35, 40]}\n",
    "# \"reg_all\": np.linspace(0, 0.5, num=25)\n",
    "# \"lr_all\": np.linspace(0.002, 0.008, num=5)\n",
    "# \"n_factors\": [10, 30, 50, 70, 90],\n",
    "# \"n_epochs\":[20, 25, 30, 35, 40]\n",
    "gs = GridSearchCV(SVD, param_grid, measures=[\"mse\"], cv=20)\n",
    "\n",
    "gs.fit(train_data)\n",
    "\n",
    "# best MSE \n",
    "print(gs.best_score[\"mse\"])\n",
    "\n",
    "# combination of parameters that gave the best MSE score\n",
    "print(gs.best_params[\"mse\"])"
   ]
  },
  {
   "cell_type": "code",
   "execution_count": 137,
   "metadata": {},
   "outputs": [
    {
     "name": "stdout",
     "output_type": "stream",
     "text": [
      "Best parameters: {'n_factors': 3, 'n_epochs': 20, 'lr_all': 0.01, 'reg_all': 0.1}\n"
     ]
    }
   ],
   "source": [
    "from surprise.model_selection import RandomizedSearchCV\n",
    "\n",
    "param_grid = {\n",
    "    'n_factors': [1, 3, 10],\n",
    "    'n_epochs': [10, 20, 30],\n",
    "    'lr_all': [0.002, 0.005, 0.007, 0.01],\n",
    "    'reg_all': [0.02, 0.05, 0.1]\n",
    "}\n",
    "\n",
    "random_search = RandomizedSearchCV(SVD, param_grid, measures=['rmse'], cv=3, n_iter=5, random_state=42)\n",
    "random_search.fit(train_data)\n",
    "\n",
    "best_params = random_search.best_params['rmse']\n",
    "print(\"Best parameters:\", best_params)"
   ]
  },
  {
   "cell_type": "code",
   "execution_count": 132,
   "metadata": {},
   "outputs": [],
   "source": [
    "# set params to optimal values\n",
    "lamb = 0.09\n",
    "opt_lr = 0.015\n",
    "opt_factors = 1"
   ]
  },
  {
   "cell_type": "code",
   "execution_count": 21,
   "metadata": {},
   "outputs": [
    {
     "data": {
      "text/plain": [
       "<surprise.prediction_algorithms.matrix_factorization.SVD at 0x1481d75f0>"
      ]
     },
     "execution_count": 21,
     "metadata": {},
     "output_type": "execute_result"
    }
   ],
   "source": [
    "# test with optimized parameters\n",
    "model = SVD(reg_all=0.15, n_factors=1, lr_all=0.015, n_epochs=20)\n",
    "\n",
    "# fit model using training data\n",
    "model.fit(trainset)"
   ]
  },
  {
   "cell_type": "code",
   "execution_count": 22,
   "metadata": {},
   "outputs": [],
   "source": [
    "# use model to predict ratings\n",
    "predictions = model.test(testset)"
   ]
  },
  {
   "cell_type": "code",
   "execution_count": 23,
   "metadata": {},
   "outputs": [
    {
     "name": "stdout",
     "output_type": "stream",
     "text": [
      "RMSE: 2.4193\n"
     ]
    },
    {
     "data": {
      "text/plain": [
       "2.4193267720778335"
      ]
     },
     "execution_count": 23,
     "metadata": {},
     "output_type": "execute_result"
    }
   ],
   "source": [
    "# RMSE\n",
    "accuracy.rmse(predictions, verbose=True)"
   ]
  },
  {
   "cell_type": "code",
   "execution_count": 24,
   "metadata": {},
   "outputs": [
    {
     "name": "stdout",
     "output_type": "stream",
     "text": [
      "MSE: 5.8531\n"
     ]
    },
    {
     "data": {
      "text/plain": [
       "5.853142030092549"
      ]
     },
     "execution_count": 24,
     "metadata": {},
     "output_type": "execute_result"
    }
   ],
   "source": [
    "# MSE\n",
    "accuracy.mse(predictions, verbose=True)"
   ]
  },
  {
   "cell_type": "code",
   "execution_count": null,
   "metadata": {},
   "outputs": [],
   "source": []
  }
 ],
 "metadata": {
  "kernelspec": {
   "display_name": "BIMM182",
   "language": "python",
   "name": "python3"
  },
  "language_info": {
   "codemirror_mode": {
    "name": "ipython",
    "version": 3
   },
   "file_extension": ".py",
   "mimetype": "text/x-python",
   "name": "python",
   "nbconvert_exporter": "python",
   "pygments_lexer": "ipython3",
   "version": "3.12.2"
  }
 },
 "nbformat": 4,
 "nbformat_minor": 2
}
